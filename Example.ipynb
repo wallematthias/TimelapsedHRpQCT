{
 "cells": [
  {
   "cell_type": "markdown",
   "metadata": {
    "colab_type": "text",
    "id": "view-in-github"
   },
   "source": [
    "<a href=\"https://colab.research.google.com/github/wallematthias/multistack_registration/blob/main/Example.ipynb\" target=\"_parent\"><img src=\"https://colab.research.google.com/assets/colab-badge.svg\" alt=\"Open In Colab\"/></a>"
   ]
  },
  {
   "cell_type": "markdown",
   "metadata": {
    "id": "RKkaeQgsB-_F"
   },
   "source": [
    "<!-- Increase heading size -->\n",
    "<h1 style=\"font-size: 24px;\">Method for Stack Timelapsed Remodelling</h1>\n",
    "\n",
    "<!-- Author and overview -->\n",
    "<p><em>Author: Matthias Walle, Institute for Biomechanics, ETH Zurich</em></p>\n",
    "\n"
   ]
  }
 ],
 "metadata": {
  "colab": {
   "authorship_tag": "ABX9TyMGc4No8VE0Q/YAV3zGcDoc",
   "include_colab_link": true,
   "mount_file_id": "1pJJh_NR3tKpwjAFc8gO191_kvKUdLvRr",
   "provenance": []
  },
  "kernelspec": {
   "display_name": "Python 3 (ipykernel)",
   "language": "python",
   "name": "python3"
  },
  "language_info": {
   "codemirror_mode": {
    "name": "ipython",
    "version": 3
   },
   "file_extension": ".py",
   "mimetype": "text/x-python",
   "name": "python",
   "nbconvert_exporter": "python",
   "pygments_lexer": "ipython3",
   "version": "3.9.7"
  }
 },
 "nbformat": 4,
 "nbformat_minor": 4
}
